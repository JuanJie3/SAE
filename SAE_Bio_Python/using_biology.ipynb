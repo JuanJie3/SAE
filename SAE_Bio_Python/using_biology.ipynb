{
 "cells": [
  {
   "cell_type": "markdown",
   "id": "a023b3ed",
   "metadata": {},
   "source": [
    "# Notebook de présentation de la SAE S01.02"
   ]
  },
  {
   "cell_type": "markdown",
   "id": "47840237",
   "metadata": {},
   "source": [
    "## Partie 1\n",
    "<br> Les exercices s'appuient sur la notion d'ADN/ARN. On supposera dans l'ensemble des exercices que l'ADN est codé sous la forme d'une chaîne de caractères contenant uniquement les lettres majuscules A, T, G, C correspondant aux différentes bases (adénine, cytosine, guanine ou thymine).\n",
    "L'ARN sera codé sous la forme d'une chaîne de caractères contenant uniquement les lettres majuscules A, U, G, C."
   ]
  },
  {
   "cell_type": "code",
   "execution_count": 2,
   "id": "e5223f73",
   "metadata": {},
   "outputs": [],
   "source": [
    "from biology import *\n",
    "from test_biology import *"
   ]
  },
  {
   "cell_type": "markdown",
   "id": "b355824a",
   "metadata": {},
   "source": [
    "### Question 1"
   ]
  },
  {
   "cell_type": "code",
   "execution_count": 6,
   "id": "ee289a66",
   "metadata": {},
   "outputs": [
    {
     "name": "stdout",
     "output_type": "stream",
     "text": [
      "test ok \n"
     ]
    }
   ],
   "source": [
    "test_est_base()"
   ]
  },
  {
   "cell_type": "markdown",
   "id": "97024dd3",
   "metadata": {},
   "source": [
    "### Question 2"
   ]
  },
  {
   "cell_type": "code",
   "execution_count": 7,
   "id": "e016f629",
   "metadata": {},
   "outputs": [
    {
     "name": "stdout",
     "output_type": "stream",
     "text": [
      "test ok\n"
     ]
    }
   ],
   "source": [
    "test_adn_base()"
   ]
  },
  {
   "cell_type": "markdown",
   "id": "136ebfd4",
   "metadata": {},
   "source": [
    "### Question 3"
   ]
  },
  {
   "cell_type": "code",
   "execution_count": 8,
   "id": "08c5c52f",
   "metadata": {},
   "outputs": [
    {
     "name": "stdout",
     "output_type": "stream",
     "text": [
      "test ok\n"
     ]
    }
   ],
   "source": [
    "test_arn()"
   ]
  },
  {
   "cell_type": "markdown",
   "id": "5baf3a91",
   "metadata": {},
   "source": [
    "### Question 4"
   ]
  },
  {
   "cell_type": "code",
   "execution_count": 9,
   "id": "152ae3da",
   "metadata": {},
   "outputs": [
    {
     "name": "stdout",
     "output_type": "stream",
     "text": [
      "test ok\n"
     ]
    }
   ],
   "source": [
    "test_arn_to_codon()"
   ]
  },
  {
   "cell_type": "markdown",
   "id": "44632e9d",
   "metadata": {},
   "source": [
    "### Question 5"
   ]
  },
  {
   "cell_type": "code",
   "execution_count": 3,
   "id": "f5d99c28",
   "metadata": {},
   "outputs": [
    {
     "name": "stdout",
     "output_type": "stream",
     "text": [
      "test ok \n"
     ]
    }
   ],
   "source": [
    "test_codons_stop()"
   ]
  },
  {
   "cell_type": "markdown",
   "id": "3a88ecab",
   "metadata": {},
   "source": [
    "### Question 6"
   ]
  },
  {
   "cell_type": "code",
   "execution_count": 11,
   "id": "ff303fd0",
   "metadata": {},
   "outputs": [
    {
     "name": "stdout",
     "output_type": "stream",
     "text": [
      "\n",
      "test ok \n"
     ]
    }
   ],
   "source": [
    "test_codon_to_aa()"
   ]
  },
  {
   "cell_type": "code",
   "execution_count": null,
   "id": "420f92ee",
   "metadata": {},
   "outputs": [],
   "source": []
  }
 ],
 "metadata": {
  "kernelspec": {
   "display_name": "Python 3",
   "language": "python",
   "name": "python3"
  },
  "language_info": {
   "codemirror_mode": {
    "name": "ipython",
    "version": 3
   },
   "file_extension": ".py",
   "mimetype": "text/x-python",
   "name": "python",
   "nbconvert_exporter": "python",
   "pygments_lexer": "ipython3",
   "version": "3.8.8"
  }
 },
 "nbformat": 4,
 "nbformat_minor": 5
}
