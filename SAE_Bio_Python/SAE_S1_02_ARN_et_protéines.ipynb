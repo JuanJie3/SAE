{
  "nbformat": 4,
  "nbformat_minor": 0,
  "metadata": {
    "colab": {
      "name": "SAE S1.02 ARN et protéines",
      "provenance": []
    },
    "kernelspec": {
      "name": "python3",
      "display_name": "Python 3"
    },
    "language_info": {
      "name": "python"
    }
  },
  "cells": [
    {
      "cell_type": "code",
      "source": [
        "#Partie 1 en option afin de faire des appels aux fonctions\n",
        "\n",
        "from json import *\n",
        "\n",
        "\n",
        "def est_base(c):\n",
        "    return len(c) == 1 and c in \"ATGC\"\n",
        "\n",
        "\n",
        "def est_adn(s):\n",
        "    i = 0\n",
        "    while i < len(s) and est_base(s[i]):\n",
        "        i += 1\n",
        "    return i >= len(s)\n",
        "\n",
        "\n",
        "def arn(adn):\n",
        "    if not est_adn(adn):\n",
        "        return None\n",
        "    s = \"\"\n",
        "    i = 0\n",
        "    while i < len(adn):\n",
        "        if adn[i] == \"T\":\n",
        "            s += \"U\"\n",
        "        else:\n",
        "            s += adn[i]\n",
        "        i += 1\n",
        "    return s\n",
        "\n",
        "\n",
        "def arn_to_codons(arn):\n",
        "    codons = []\n",
        "    i = 0\n",
        "    while i < len(arn) - 2:\n",
        "        codons.append(arn[i] + arn[i + 1] + arn[i + 2])\n",
        "        i += 3\n",
        "    return codons\n",
        "\n",
        "\n",
        "def load_dico_codons_aa(filename):\n",
        "    fichier = open(filename, \"r\")\n",
        "    strjson = fichier.read()\n",
        "    fichier.close()\n",
        "    return loads(strjson)\n",
        "\n",
        "\n",
        "def codons_stop(dico):\n",
        "    stop = []\n",
        "    bases = \"AUGC\"\n",
        "    i = 0\n",
        "    while i < 4:\n",
        "        j = 0\n",
        "        while j < 4:\n",
        "            k = 0\n",
        "            while k < 4:\n",
        "                if bases[i] + bases[j] + bases[k] not in dico:\n",
        "                    stop.append(bases[i] + bases[j] + bases[k])\n",
        "                k += 1\n",
        "            j += 1\n",
        "        i += 1\n",
        "    return stop\n",
        "\n",
        "\n",
        "def codons_to_aa(codons, dico):\n",
        "    aa = []\n",
        "    i = 0\n",
        "    while i < len(codons) and codons[i] in dico:\n",
        "        aa.append(dico[codons[i]])\n",
        "        i += 1\n",
        "    return aa\n"
      ],
      "metadata": {
        "id": "VYbH2HVy5N9W"
      },
      "execution_count": 1,
      "outputs": []
    },
    {
      "cell_type": "code",
      "source": [
        "dico={\"UUU\": \"Phenylalanine\",\n",
        "    \"UUC\": \"Phenylalanine\",\n",
        "    \"UUA\": \"Leucine\",\n",
        "    \"UUG\": \"Leucine\",\n",
        "    \"CUU\": \"Leucine\",\n",
        "    \"CUC\": \"Leucine\",\n",
        "    \"CUA\": \"Leucine\",\n",
        "    \"CUG\": \"Leucine\",\n",
        "    \"AUU\": \"Isoleucine\",\n",
        "    \"AUC\": \"Isoleucine\",\n",
        "    \"AUA\": \"Methionine\",\n",
        "    \"AUG\": \"Methionine\",\n",
        "    \"GUU\": \"Valine\",\n",
        "    \"GUC\": \"Valine\",\n",
        "    \"GUA\": \"Valine\",\n",
        "    \"GUG\": \"Valine\",\n",
        "    \"UCU\": \"Serine\",\n",
        "    \"UCC\": \"Serine\",\n",
        "    \"UCA\": \"Serine\",\n",
        "    \"UCG\": \"Serine\",\n",
        "    \"CCU\": \"Proline\",\n",
        "    \"CCC\": \"Proline\",\n",
        "    \"CCA\": \"Proline\",\n",
        "    \"CCG\": \"Proline\",\n",
        "    \"ACU\": \"Threonine\",\n",
        "    \"ACC\": \"Threonine\",\n",
        "    \"ACA\": \"Threonine\",\n",
        "    \"ACG\": \"Threonine\",\n",
        "    \"GCU\": \"Alanine\",\n",
        "    \"GCC\": \"Alanine\",\n",
        "    \"GCA\": \"Alanine\",\n",
        "    \"GCG\": \"Alanine\",\n",
        "    \"UAU\": \"Tyrosine\",\n",
        "    \"UAC\": \"Tyrosine\",\n",
        "    \"CAU\": \"Histidine\",\n",
        "    \"CAC\": \"Histidine\",\n",
        "    \"CAA\": \"Glutamine\",\n",
        "    \"CAG\": \"Glutamine\",\n",
        "    \"AAU\": \"Asparagine\",\n",
        "    \"AAC\": \"Asparagine\",\n",
        "    \"AAA\": \"Lysine\",\n",
        "    \"AAG\": \"Lysine\",\n",
        "    \"GAU\": \"Aspartic acid\",\n",
        "    \"GAC\": \"Aspartic acid\",\n",
        "    \"GAA\": \"Glutamic acid\",\n",
        "    \"GAG\": \"Glutamic acid\",\n",
        "    \"UGU\": \"Cysteine\",\n",
        "    \"UGC\": \"Cysteine\",\n",
        "    \"UGA\": \"Tryptophan\",\n",
        "    \"UGG\": \"Tryptophan\",\n",
        "    \"CGU\": \"Arginine\",\n",
        "    \"CGC\": \"Arginine\",\n",
        "    \"CGA\": \"Arginine\",\n",
        "    \"CGG\": \"Arginine\",\n",
        "    \"AGU\": \"Serine\",\n",
        "    \"AGC\": \"Serine\",\n",
        "    \"GGU\": \"Glycine\",\n",
        "    \"GGC\": \"Glycine\",\n",
        "    \"GGA\": \"Glycine\",\n",
        "    \"GGG\": \"Glycine\"\n",
        "}"
      ],
      "metadata": {
        "id": "CeoFlwJy_FYw"
      },
      "execution_count": 20,
      "outputs": []
    },
    {
      "cell_type": "code",
      "execution_count": 19,
      "metadata": {
        "id": "rF7UIK5307k1"
      },
      "outputs": [],
      "source": [
        "\"\"\"\n",
        "La fonction nextIndice permet renvoyé l'indice de la première case du tableau tab contenant une valeur du tableau élément\n",
        "\n",
        "tab=tableau\n",
        "ind=indice\n",
        "elements=tableau\n",
        "\"\"\"\n",
        "def nextIndice(tab,ind,elements):\n",
        "  for i in range(ind,len(tab)):\n",
        "    if tab[i] in elements:\n",
        "      return i\n",
        "    return(len(tab))\n",
        "\n",
        "\n",
        "\n",
        "tab=[\"bonjour\", \"hello\", \"buongiorno\", \"ciao\", \"bye\"]\n",
        "elements=[\"hello\", \"bye\"]\n",
        "nextIndice(tab,5,elements)"
      ]
    },
    {
      "cell_type": "code",
      "source": [
        "#Test unitaire nextIndice\n",
        "def test_nextIndice():\n",
        "  assert nextIndice([\"bonjour\", \"hello\", \"buongiorno\", \"ciao\", \"bye\"],1,[\"hello\", \"bye\"])==1\n",
        "  assert nextIndice([\"bonjour\", \"hello\", \"buongiorno\", \"ciao\", \"bye\"],0,[\"hello\", \"bye\"])==5\n",
        "  assert nextIndice([\"bonjour\", \"hello\", \"buongiorno\", \"ciao\", \"bye\"],5,[\"hello\", \"bye\"])==None\n",
        "  print(\"test ok\")\n",
        "\n",
        "test_nextIndice()"
      ],
      "metadata": {
        "colab": {
          "base_uri": "https://localhost:8080/"
        },
        "id": "dQ4q9J0iok50",
        "outputId": "a28b69c4-4ed7-4a25-fa7a-b9b02864df05"
      },
      "execution_count": 18,
      "outputs": [
        {
          "output_type": "stream",
          "name": "stdout",
          "text": [
            "test ok\n"
          ]
        }
      ]
    },
    {
      "cell_type": "code",
      "source": [
        "\"\"\"\n",
        "La fonciton decoupe_sequence permet de découper le tableau en plusieurs séquence puis renvoie les différents morceaux du tableau.\n",
        "\n",
        "2 tableau = t, tab\n",
        "insert = début du découpage\n",
        "renvoie tab\n",
        "\"\"\"\n",
        "def decoupe_sequence(seq,start,stop):\n",
        "  tab=[]\n",
        "  t=[]\n",
        "  insert = False\n",
        "  for i in range(0,len(seq)):\n",
        "    if insert == True:\n",
        "      if seq[i] not in stop:\n",
        "        t.append(seq[i])\n",
        "      else:\n",
        "        tab.append(t)\n",
        "        t=[]\n",
        "        insert = False    \n",
        "    if seq[i] in start:\n",
        "      insert=True\n",
        "  return(tab)\n",
        "\n",
        "seq=[\"début\",\"val1\",\"val2\",\"start\",\"val3\",\"end\",\"fin\"]\n",
        "start = [\"début\", \"begin\"]\n",
        "stop = [\"fin\", \"end\"]\n",
        "decoupe_sequence(seq,start,stop)"
      ],
      "metadata": {
        "colab": {
          "base_uri": "https://localhost:8080/"
        },
        "id": "zmAy7nN62hb9",
        "outputId": "92a822df-5900-42a5-e6a4-02f78b74a786"
      },
      "execution_count": 102,
      "outputs": [
        {
          "output_type": "execute_result",
          "data": {
            "text/plain": [
              "[['val1', 'val2', 'start', 'val3']]"
            ]
          },
          "metadata": {},
          "execution_count": 102
        }
      ]
    },
    {
      "cell_type": "code",
      "source": [
        "#Test unitaire decoupe_sequence\n",
        "def test_decoupe_sequence():\n",
        "  assert decoupe_sequence([\"val1\", \"début\", \"val2\", \"val3\", \"end\", \"val4\", \"fin\", \"begin\", \"val5\", \"fin\", \"val6\"],[\"début\", \"begin\"],[\"fin\", \"end\"])==[\n",
        "    [\"val2\", \"val3\"],\n",
        "    [\"val5\"]\n",
        "]\n",
        "\n",
        "  assert decoupe_sequence([\"début\",\"val1\",\"val2\",\"start\",\"val3\",\"end\",\"fin\"],[\"début\",\"start\"],[\"fin\",\"end\"])==[['val1', 'val2', 'start', 'val3']]\n",
        "  assert decoupe_sequence([\"val1\", \"début\", \"val2\", \"val3\", \"end\"],[\"début\",\"start\"],[\"fin\",\"end\"])==[['val2', 'val3']]\n",
        "  print(\"test ok\")\n",
        "\n",
        "test_decoupe_sequence()"
      ],
      "metadata": {
        "colab": {
          "base_uri": "https://localhost:8080/"
        },
        "id": "bQNqCSdXpmSX",
        "outputId": "dbcb6db4-86a2-4eb8-d62f-e9527651f041"
      },
      "execution_count": 106,
      "outputs": [
        {
          "output_type": "stream",
          "name": "stdout",
          "text": [
            "test ok\n"
          ]
        }
      ]
    },
    {
      "cell_type": "code",
      "source": [
        "\"\"\"\n",
        "Cette fonction permet de transformer la sequence de codons en séquence codantes.\n",
        "stop= codons qui permet d'arreter la découpe\n",
        "start = codons permettant de commencer la découpe\n",
        "renvoie les séquences découpé du tableau\n",
        "\"\"\"\n",
        "def codons_to_seq_codantes(seq_codons,dico):\n",
        "    stop = codons_stop(dico)\n",
        "    start = \"AUG\"\n",
        "    return decoupe_sequence(seq_codons,start,stop)\n",
        "\n",
        "seq_codons=['CGU', 'UUU', 'AUG', 'CGU', 'AUG', 'AAU', 'UAA', 'AUG', 'GGG', 'CCC', 'CGU', 'UAG', 'GGG']\n",
        "codons_to_seq_codantes(seq_codons,dico)"
      ],
      "metadata": {
        "id": "r_JOS0SuUIbr",
        "colab": {
          "base_uri": "https://localhost:8080/"
        },
        "outputId": "9c449cfd-577e-4c15-f311-c41a4e0d6f98"
      },
      "execution_count": 107,
      "outputs": [
        {
          "output_type": "execute_result",
          "data": {
            "text/plain": [
              "[['CGU', 'AUG', 'AAU'], ['GGG', 'CCC', 'CGU']]"
            ]
          },
          "metadata": {},
          "execution_count": 107
        }
      ]
    },
    {
      "cell_type": "code",
      "source": [
        "#Test unitaire codons_to_seq_codantes\n",
        "def test_codons_to_seq_codantes():\n",
        "  assert codons_to_seq_codantes([\"CGU\", \"UUU\", \"AUG\", \"CGU\", \"AUG\", \"AAU\", \"UAA\", \"AUG\", \"GGG\", \"CCC\",  \"CGU\", \"UAG\", \"GGG\"],dico)==[\n",
        "    [\"CGU\", \"AUG\", \"AAU\"],\n",
        "    [\"GGG\", \"CCC\", \"CGU\"]\n",
        "]\n",
        "  assert codons_to_seq_codantes([\"AUG\",\"CGU\", \"UUU\", \"CGU\", \"AAU\", \"GGG\", \"CCC\",  \"CGU\", \"GGG\",\"UAA\"],dico)==[['CGU', 'UUU', 'CGU', 'AAU', 'GGG', 'CCC', 'CGU', 'GGG']]\n",
        "  print(\"test ok\")\n",
        "\n",
        "test_codons_to_seq_codantes()"
      ],
      "metadata": {
        "colab": {
          "base_uri": "https://localhost:8080/"
        },
        "id": "iWrKkuCUTpYt",
        "outputId": "15cd3a99-2ba7-4eae-bfab-2363b72aa57e"
      },
      "execution_count": 110,
      "outputs": [
        {
          "output_type": "stream",
          "name": "stdout",
          "text": [
            "test ok\n"
          ]
        }
      ]
    },
    {
      "cell_type": "code",
      "source": [
        "\"\"\"\n",
        "La fonction seq_codantes_to_seq_aas renvoie les différents acides aminés des séquences codantes.\n",
        "2 tableau = tab, tab2\n",
        "renvoie tab2\n",
        "\"\"\"\n",
        "def seq_codantes_to_seq_aas(tab_seq,dico):\n",
        "  tab=[]\n",
        "  tab2=[]\n",
        "  for i in tab_seq:\n",
        "    for j in i:\n",
        "      tab.append(dico[j])\n",
        "    tab2.append(tab)\n",
        "    tab=[]\n",
        "  return tab2\n",
        "\n",
        "\n",
        "tab_seq=[['CGU', 'UUU', 'CGU', 'AAU', 'GGG', 'CCC', 'CGU', 'GGG']]\n",
        "seq_codantes_to_seq_aas(tab_seq,dico)"
      ],
      "metadata": {
        "colab": {
          "base_uri": "https://localhost:8080/"
        },
        "id": "31GQiCnACPks",
        "outputId": "2c8a6c3d-34cb-49c1-a9af-cecac9225c18"
      },
      "execution_count": 111,
      "outputs": [
        {
          "output_type": "execute_result",
          "data": {
            "text/plain": [
              "[['Arginine',\n",
              "  'Phenylalanine',\n",
              "  'Arginine',\n",
              "  'Asparagine',\n",
              "  'Glycine',\n",
              "  'Proline',\n",
              "  'Arginine',\n",
              "  'Glycine']]"
            ]
          },
          "metadata": {},
          "execution_count": 111
        }
      ]
    },
    {
      "cell_type": "code",
      "source": [
        "#Test unitaire seq_codantes_to_seq_aas\n",
        "def test_seq_codantes_to_seq_aas():\n",
        "  assert seq_codantes_to_seq_aas([['CGU', 'AUG', 'AAU', 'GGG', 'CCC', 'CGU']],dico)==[['Arginine', 'Methionine', 'Asparagine', 'Glycine', 'Proline', 'Arginine']]\n",
        "  assert seq_codantes_to_seq_aas([['CGU', 'UUU', 'CGU', 'AAU', 'GGG', 'CCC', 'CGU', 'GGG']],dico)==[['Arginine','Phenylalanine','Arginine','Asparagine','Glycine','Proline','Arginine','Glycine']]\n",
        "  print(\"test ok\")\n",
        "\n",
        "test_seq_codantes_to_seq_aas()"
      ],
      "metadata": {
        "colab": {
          "base_uri": "https://localhost:8080/"
        },
        "id": "5kh-iD8-VAaw",
        "outputId": "de981ed1-e2a4-4a69-ba03-302cb330284d"
      },
      "execution_count": 112,
      "outputs": [
        {
          "output_type": "stream",
          "name": "stdout",
          "text": [
            "test ok\n"
          ]
        }
      ]
    },
    {
      "cell_type": "code",
      "source": [
        "\"\"\"\n",
        "La fonction adn_encode_molecule est une fonction qui renvoie Vrai si l'ARN obtenu à partir de l'ADN à codons séparés contient une séquence codante égale à la molécule.\n",
        "\n",
        "renvoie vrai\n",
        "\"\"\"\n",
        "def adn_encode_molecule(adn,molecule,dico):\n",
        "  arn = arn_to_codons(adn)\n",
        "  print(arn)\n",
        "  transform = codons_to_seq_codantes(arn,dico)\n",
        "  print(transform)\n",
        "  seq_codantes = seq_codantes_to_seq_aas(transform,dico)\n",
        "  print(seq_codantes)\n",
        "  return molecule in seq_codantes\n",
        "\n",
        "\n",
        "adn = \"CGTTTTATGCGTATGAATTAAATGGGGCCCCGTTAGGGG\"\n",
        "molecule = [\"Glycine\", \"Proline\", \"Arginine\"]\n",
        "adn_encode_molecule(arn(adn),molecule,dico)"
      ],
      "metadata": {
        "id": "h6QekK1RDXfv",
        "colab": {
          "base_uri": "https://localhost:8080/"
        },
        "outputId": "424fb7bf-cf15-40a0-8edf-1c2c9e7dd924"
      },
      "execution_count": 119,
      "outputs": [
        {
          "output_type": "stream",
          "name": "stdout",
          "text": [
            "['CGU', 'UUU', 'AUG', 'CGU', 'AUG', 'AAU', 'UAA', 'AUG', 'GGG', 'CCC', 'CGU', 'UAG', 'GGG']\n",
            "[['CGU', 'AUG', 'AAU'], ['GGG', 'CCC', 'CGU']]\n",
            "[['Arginine', 'Methionine', 'Asparagine'], ['Glycine', 'Proline', 'Arginine']]\n"
          ]
        },
        {
          "output_type": "execute_result",
          "data": {
            "text/plain": [
              "True"
            ]
          },
          "metadata": {},
          "execution_count": 119
        }
      ]
    },
    {
      "cell_type": "code",
      "source": [
        "#0Test unitaire adn_encode_molecule\n",
        "\n",
        "def test_adn_encode_molecule():\n",
        "    assert adn_encode_molecule(arn(\"CGTTTTATGCGTATGAATTAAATGGGGCCCCGTTAGGGG\"),[\"Glycine\", \"Proline\", \"Arginine\"],dico) == True\n",
        "    assert adn_encode_molecule(arn(\"CGTTTTATGCGTATGCCCGTTAGGGG\"),[\"Glycine\", \"Proline\", \"Arginine\"],dico) == False\n",
        "    print(\"test ok\")\n",
        "\n",
        "test_adn_encode_molecule()"
      ],
      "metadata": {
        "colab": {
          "base_uri": "https://localhost:8080/"
        },
        "id": "89v1obBu8bbe",
        "outputId": "b50926de-63b3-450d-9b6d-0f27caf8c05a"
      },
      "execution_count": 123,
      "outputs": [
        {
          "output_type": "stream",
          "name": "stdout",
          "text": [
            "['CGU', 'UUU', 'AUG', 'CGU', 'AUG', 'AAU', 'UAA', 'AUG', 'GGG', 'CCC', 'CGU', 'UAG', 'GGG']\n",
            "[['CGU', 'AUG', 'AAU'], ['GGG', 'CCC', 'CGU']]\n",
            "[['Arginine', 'Methionine', 'Asparagine'], ['Glycine', 'Proline', 'Arginine']]\n",
            "['CGU', 'UUU', 'AUG', 'CGU', 'AUG', 'CCC', 'GUU', 'AGG']\n",
            "[['CGU', 'AUG', 'CCC', 'GUU']]\n",
            "[['Arginine', 'Methionine', 'Proline', 'Valine']]\n",
            "test ok\n"
          ]
        }
      ]
    }
  ]
}